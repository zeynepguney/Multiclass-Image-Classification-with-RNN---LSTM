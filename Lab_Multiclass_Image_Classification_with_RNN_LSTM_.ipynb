{
  "nbformat": 4,
  "nbformat_minor": 0,
  "metadata": {
    "colab": {
      "provenance": [],
      "gpuType": "T4"
    },
    "kernelspec": {
      "name": "python3",
      "display_name": "Python 3"
    },
    "language_info": {
      "name": "python"
    },
    "accelerator": "GPU"
  },
  "cells": [
    {
      "cell_type": "code",
      "execution_count": null,
      "metadata": {
        "id": "CTuuYB_m-rmj"
      },
      "outputs": [],
      "source": [
        "import tensorflow as tf"
      ]
    },
    {
      "cell_type": "code",
      "source": [
        "print(tf.__version__)"
      ],
      "metadata": {
        "colab": {
          "base_uri": "https://localhost:8080/"
        },
        "id": "xW1RtyKs_J44",
        "outputId": "4c39d286-e4cf-4bbb-8518-f7ee5dafc28b"
      },
      "execution_count": null,
      "outputs": [
        {
          "output_type": "stream",
          "name": "stdout",
          "text": [
            "2.13.0\n"
          ]
        }
      ]
    },
    {
      "cell_type": "code",
      "source": [
        "import numpy as np\n",
        "import pandas as pd\n",
        "import matplotlib.pyplot as plt"
      ],
      "metadata": {
        "id": "69qq90oB_SRW"
      },
      "execution_count": null,
      "outputs": []
    },
    {
      "cell_type": "markdown",
      "source": [
        "###Data Preprocessing"
      ],
      "metadata": {
        "id": "FaddLbWM_d_J"
      }
    },
    {
      "cell_type": "code",
      "source": [
        "# Importing the Libraries\n",
        "from tensorflow.keras.datasets import mnist"
      ],
      "metadata": {
        "id": "I34ViJz5_dMh"
      },
      "execution_count": null,
      "outputs": []
    },
    {
      "cell_type": "code",
      "source": [
        "# Loading the Datasets\n",
        "(x_train, y_train), (x_test, y_test) = mnist.load_data()"
      ],
      "metadata": {
        "colab": {
          "base_uri": "https://localhost:8080/"
        },
        "id": "9CkG2WUX_nHD",
        "outputId": "d6e050fa-4e37-4662-cc9b-44016f8831e3"
      },
      "execution_count": null,
      "outputs": [
        {
          "output_type": "stream",
          "name": "stdout",
          "text": [
            "Downloading data from https://storage.googleapis.com/tensorflow/tf-keras-datasets/mnist.npz\n",
            "11490434/11490434 [==============================] - 1s 0us/step\n"
          ]
        }
      ]
    },
    {
      "cell_type": "code",
      "source": [
        "x_train.shape, x_test.shape"
      ],
      "metadata": {
        "colab": {
          "base_uri": "https://localhost:8080/"
        },
        "id": "1BBH5yH4_xc-",
        "outputId": "156896fd-7ed9-4a2a-fd1c-d7ea491c6bfe"
      },
      "execution_count": null,
      "outputs": [
        {
          "output_type": "execute_result",
          "data": {
            "text/plain": [
              "((60000, 28, 28), (10000, 28, 28))"
            ]
          },
          "metadata": {},
          "execution_count": 6
        }
      ]
    },
    {
      "cell_type": "code",
      "source": [
        "y_train.shape, y_test.shape"
      ],
      "metadata": {
        "colab": {
          "base_uri": "https://localhost:8080/"
        },
        "id": "TkvSvZms_0kK",
        "outputId": "34fad14b-5a3b-4a35-a66b-a52b436648af"
      },
      "execution_count": null,
      "outputs": [
        {
          "output_type": "execute_result",
          "data": {
            "text/plain": [
              "((60000,), (10000,))"
            ]
          },
          "metadata": {},
          "execution_count": 7
        }
      ]
    },
    {
      "cell_type": "code",
      "source": [
        "x_train.min(), x_train.max()"
      ],
      "metadata": {
        "colab": {
          "base_uri": "https://localhost:8080/"
        },
        "id": "bKTuYykn_36w",
        "outputId": "5f3aa863-d12d-466a-b953-a8ebdeace1eb"
      },
      "execution_count": null,
      "outputs": [
        {
          "output_type": "execute_result",
          "data": {
            "text/plain": [
              "(0, 255)"
            ]
          },
          "metadata": {},
          "execution_count": 8
        }
      ]
    },
    {
      "cell_type": "code",
      "source": [
        "y_train.min(), y_train.max()"
      ],
      "metadata": {
        "colab": {
          "base_uri": "https://localhost:8080/"
        },
        "id": "don4dbAD_7HM",
        "outputId": "79d19fa1-13be-4913-c4ca-40f1cf9bc590"
      },
      "execution_count": null,
      "outputs": [
        {
          "output_type": "execute_result",
          "data": {
            "text/plain": [
              "(0, 9)"
            ]
          },
          "metadata": {},
          "execution_count": 9
        }
      ]
    },
    {
      "cell_type": "code",
      "source": [
        "# Normalize the Dataset\n",
        "\n",
        "x_train = x_train/255.0\n",
        "x_test = x_test/255.0"
      ],
      "metadata": {
        "id": "EGj1Oin7_9gk"
      },
      "execution_count": null,
      "outputs": []
    },
    {
      "cell_type": "code",
      "source": [
        "x_train.min(), x_train.max()"
      ],
      "metadata": {
        "colab": {
          "base_uri": "https://localhost:8080/"
        },
        "id": "XHbX6OTuBOBt",
        "outputId": "c571981b-82ba-4557-91b9-e2c9a516fd1a"
      },
      "execution_count": null,
      "outputs": [
        {
          "output_type": "execute_result",
          "data": {
            "text/plain": [
              "(0.0, 1.0)"
            ]
          },
          "metadata": {},
          "execution_count": 11
        }
      ]
    },
    {
      "cell_type": "code",
      "source": [
        "plt.imshow(x_train[5])"
      ],
      "metadata": {
        "colab": {
          "base_uri": "https://localhost:8080/",
          "height": 447
        },
        "id": "LY7j3hsdBQM2",
        "outputId": "01bb4ad9-2fbb-40d3-fedd-be4065ab339e"
      },
      "execution_count": null,
      "outputs": [
        {
          "output_type": "execute_result",
          "data": {
            "text/plain": [
              "<matplotlib.image.AxesImage at 0x7c0f5bad0c40>"
            ]
          },
          "metadata": {},
          "execution_count": 12
        },
        {
          "output_type": "display_data",
          "data": {
            "text/plain": [
              "<Figure size 640x480 with 1 Axes>"
            ],
            "image/png": "[encoded data removed]"
          },
          "metadata": {}
        }
      ]
    },
    {
      "cell_type": "code",
      "source": [
        "y_train[5]"
      ],
      "metadata": {
        "colab": {
          "base_uri": "https://localhost:8080/"
        },
        "id": "gfSPf5peBSm3",
        "outputId": "f597520c-60b5-4e77-95bd-4776c976f4ac"
      },
      "execution_count": null,
      "outputs": [
        {
          "output_type": "execute_result",
          "data": {
            "text/plain": [
              "2"
            ]
          },
          "metadata": {},
          "execution_count": 13
        }
      ]
    },
    {
      "cell_type": "markdown",
      "source": [
        "### Build the LSTM"
      ],
      "metadata": {
        "id": "dfmqGLfSBXzw"
      }
    },
    {
      "cell_type": "code",
      "source": [
        "model = tf.keras.models.Sequential()"
      ],
      "metadata": {
        "id": "oiyt67azBXup"
      },
      "execution_count": null,
      "outputs": []
    },
    {
      "cell_type": "code",
      "source": [
        "# First LSTM Layer\n",
        "model.add(tf.keras.layers.LSTM(units=128, activation=\"relu\", return_sequences=True, input_shape=(28, 28)))\n",
        "model.add(tf.keras.layers.Dropout(0.2))\n",
        "\n",
        "# Second LSTM Layer\n",
        "model.add(tf.keras.layers.LSTM(units=128, activation=\"relu\"))\n",
        "model.add(tf.keras.layers.Dropout(0.2))\n",
        "\n",
        "# Fully connected Layer (First Dense Layer)\n",
        "model.add(tf.keras.layers.Dense(units=32, activation=\"relu\"))\n",
        "model.add(tf.keras.layers.Dropout(0.2))\n",
        "\n",
        "# Output Layer\n",
        "model.add(tf.keras.layers.Dense(units=10, activation=\"softmax\"))"
      ],
      "metadata": {
        "colab": {
          "base_uri": "https://localhost:8080/"
        },
        "id": "aP48iGVOBVDP",
        "outputId": "237694cf-534b-4244-bfb1-9cabc13cde62"
      },
      "execution_count": null,
      "outputs": [
        {
          "output_type": "stream",
          "name": "stderr",
          "text": [
            "WARNING:tensorflow:Layer lstm will not use cuDNN kernels since it doesn't meet the criteria. It will use a generic GPU kernel as fallback when running on GPU.\n",
            "WARNING:tensorflow:Layer lstm_1 will not use cuDNN kernels since it doesn't meet the criteria. It will use a generic GPU kernel as fallback when running on GPU.\n"
          ]
        }
      ]
    },
    {
      "cell_type": "code",
      "source": [
        "model.summary()"
      ],
      "metadata": {
        "colab": {
          "base_uri": "https://localhost:8080/"
        },
        "id": "StiQi7mDCDON",
        "outputId": "15aece42-9f37-41a4-f7c3-65339fd76e4e"
      },
      "execution_count": null,
      "outputs": [
        {
          "output_type": "stream",
          "name": "stdout",
          "text": [
            "Model: \"sequential\"\n",
            "_________________________________________________________________\n",
            " Layer (type)                Output Shape              Param #   \n",
            "=================================================================\n",
            " lstm (LSTM)                 (None, 28, 128)           80384     \n",
            "                                                                 \n",
            " dropout (Dropout)           (None, 28, 128)           0         \n",
            "                                                                 \n",
            " lstm_1 (LSTM)               (None, 128)               131584    \n",
            "                                                                 \n",
            " dropout_1 (Dropout)         (None, 128)               0         \n",
            "                                                                 \n",
            " dense (Dense)               (None, 32)                4128      \n",
            "                                                                 \n",
            " dropout_2 (Dropout)         (None, 32)                0         \n",
            "                                                                 \n",
            " dense_1 (Dense)             (None, 10)                330       \n",
            "                                                                 \n",
            "=================================================================\n",
            "Total params: 216426 (845.41 KB)\n",
            "Trainable params: 216426 (845.41 KB)\n",
            "Non-trainable params: 0 (0.00 Byte)\n",
            "_________________________________________________________________\n"
          ]
        }
      ]
    },
    {
      "cell_type": "code",
      "source": [
        "opt = tf.keras.optimizers.Adam(learning_rate=0.001)"
      ],
      "metadata": {
        "id": "AYU-GerqF2OZ"
      },
      "execution_count": null,
      "outputs": []
    },
    {
      "cell_type": "code",
      "source": [
        "# Compile the Model\n",
        "model.compile(\n",
        "    optimizer=opt,\n",
        "    loss=\"sparse_categorical_crossentropy\",\n",
        "    metrics=[\"accuracy\"]\n",
        ")"
      ],
      "metadata": {
        "id": "yEkcQ5aTGYM2"
      },
      "execution_count": null,
      "outputs": []
    },
    {
      "cell_type": "markdown",
      "source": [
        "### Training the Model"
      ],
      "metadata": {
        "id": "2nLA7mjUGnjM"
      }
    },
    {
      "cell_type": "code",
      "source": [
        "history = model.fit(\n",
        "    x_train,\n",
        "    y_train,\n",
        "    epochs=10,\n",
        "    validation_data = (x_test, y_test)\n",
        ")"
      ],
      "metadata": {
        "colab": {
          "base_uri": "https://localhost:8080/"
        },
        "id": "hQpgeDsYGmpL",
        "outputId": "0323216f-80f1-491a-c1af-052eab095d22"
      },
      "execution_count": null,
      "outputs": [
        {
          "output_type": "stream",
          "name": "stdout",
          "text": [
            "Epoch 1/10\n",
            "1875/1875 [==============================] - 99s 49ms/step - loss: 0.6320 - accuracy: 0.7924 - val_loss: 0.1539 - val_accuracy: 0.9555\n",
            "Epoch 2/10\n",
            "1875/1875 [==============================] - 93s 49ms/step - loss: 0.1579 - accuracy: 0.9590 - val_loss: 0.1120 - val_accuracy: 0.9689\n",
            "Epoch 3/10\n",
            "1875/1875 [==============================] - 125s 67ms/step - loss: 0.1067 - accuracy: 0.9714 - val_loss: 0.0648 - val_accuracy: 0.9801\n",
            "Epoch 4/10\n",
            "1875/1875 [==============================] - 123s 65ms/step - loss: 0.0799 - accuracy: 0.9789 - val_loss: 0.0624 - val_accuracy: 0.9837\n",
            "Epoch 5/10\n",
            "1875/1875 [==============================] - 96s 51ms/step - loss: 0.0694 - accuracy: 0.9814 - val_loss: 0.0523 - val_accuracy: 0.9840\n",
            "Epoch 6/10\n",
            "1875/1875 [==============================] - 97s 52ms/step - loss: 0.0583 - accuracy: 0.9843 - val_loss: 0.0477 - val_accuracy: 0.9865\n",
            "Epoch 7/10\n",
            "1875/1875 [==============================] - 95s 51ms/step - loss: 0.0506 - accuracy: 0.9861 - val_loss: 0.0500 - val_accuracy: 0.9872\n",
            "Epoch 8/10\n",
            "1875/1875 [==============================] - 92s 49ms/step - loss: 0.0840 - accuracy: 0.9865 - val_loss: 0.0496 - val_accuracy: 0.9881\n",
            "Epoch 9/10\n",
            "1875/1875 [==============================] - 112s 59ms/step - loss: 0.0401 - accuracy: 0.9891 - val_loss: 0.0354 - val_accuracy: 0.9896\n",
            "Epoch 10/10\n",
            "1875/1875 [==============================] - 90s 48ms/step - loss: 0.0380 - accuracy: 0.9897 - val_loss: 0.0486 - val_accuracy: 0.9889\n"
          ]
        }
      ]
    },
    {
      "cell_type": "code",
      "source": [
        "# Predictions\n",
        "\n",
        "y_pred = np.argmax(model.predict(x_test), axis=1)"
      ],
      "metadata": {
        "colab": {
          "base_uri": "https://localhost:8080/"
        },
        "id": "JJhyHRpnGw9l",
        "outputId": "d3152b9f-cf99-4496-a0c5-321163932bdd"
      },
      "execution_count": null,
      "outputs": [
        {
          "output_type": "stream",
          "name": "stdout",
          "text": [
            "313/313 [==============================] - 4s 10ms/step\n"
          ]
        }
      ]
    },
    {
      "cell_type": "code",
      "source": [
        "print(y_pred[0]), print(y_test[0])"
      ],
      "metadata": {
        "colab": {
          "base_uri": "https://localhost:8080/"
        },
        "id": "_mMA_-wnH2i4",
        "outputId": "f5349081-561a-4066-f5a7-243e485d4e5f"
      },
      "execution_count": null,
      "outputs": [
        {
          "output_type": "stream",
          "name": "stdout",
          "text": [
            "7\n",
            "7\n"
          ]
        },
        {
          "output_type": "execute_result",
          "data": {
            "text/plain": [
              "(None, None)"
            ]
          },
          "metadata": {},
          "execution_count": 22
        }
      ]
    },
    {
      "cell_type": "code",
      "source": [
        "print(y_pred[10]), print(y_test[10])"
      ],
      "metadata": {
        "colab": {
          "base_uri": "https://localhost:8080/"
        },
        "id": "x_9Q44I_H9Bw",
        "outputId": "417a6d36-3c8d-4d82-d802-82d5c51842a8"
      },
      "execution_count": null,
      "outputs": [
        {
          "output_type": "stream",
          "name": "stdout",
          "text": [
            "0\n",
            "0\n"
          ]
        },
        {
          "output_type": "execute_result",
          "data": {
            "text/plain": [
              "(None, None)"
            ]
          },
          "metadata": {},
          "execution_count": 23
        }
      ]
    },
    {
      "cell_type": "code",
      "source": [
        "# Confusion Matrix\n",
        "\n",
        "from sklearn.metrics import confusion_matrix, accuracy_score    # , top_k_accuracy_score\n",
        "\n",
        "cm = confusion_matrix(y_test, y_pred)\n",
        "\n",
        "print(cm)"
      ],
      "metadata": {
        "colab": {
          "base_uri": "https://localhost:8080/"
        },
        "id": "_y7eBP97H-pG",
        "outputId": "efc41cbb-3a99-4e30-d6a6-317759d8e7db"
      },
      "execution_count": null,
      "outputs": [
        {
          "output_type": "stream",
          "name": "stdout",
          "text": [
            "[[ 975    0    1    1    0    0    2    1    0    0]\n",
            " [   0 1132    1    0    0    0    0    1    1    0]\n",
            " [   1    0 1029    1    1    0    0    0    0    0]\n",
            " [   0    0    4 1004    0    1    0    1    0    0]\n",
            " [   0    0    1    0  971    0    4    1    1    4]\n",
            " [   0    0    3    8    0  876    1    0    2    2]\n",
            " [   3    2    3    0    0    1  946    0    3    0]\n",
            " [   0    1   17    2    3    0    0 1000    1    4]\n",
            " [   3    1    3    0    0    0    1    0  965    1]\n",
            " [   2    0    0    0    8    1    0    2    5  991]]\n"
          ]
        }
      ]
    },
    {
      "cell_type": "code",
      "source": [
        "acc_cm = accuracy_score(y_test, y_pred)\n",
        "print(acc_cm)"
      ],
      "metadata": {
        "colab": {
          "base_uri": "https://localhost:8080/"
        },
        "id": "Guu7i2ulKBSl",
        "outputId": "d22e579b-6cc0-45ce-8a73-38b003ab1be1"
      },
      "execution_count": null,
      "outputs": [
        {
          "output_type": "stream",
          "name": "stdout",
          "text": [
            "0.9889\n"
          ]
        }
      ]
    },
    {
      "cell_type": "code",
      "source": [
        "def learning_curve(history, epoch):\n",
        "\n",
        "  # training vs validation accuracy\n",
        "  epoch_range = range(1, epoch+1)\n",
        "  plt.plot(epoch_range, history.history['accuracy'])\n",
        "  plt.plot(epoch_range, history.history['val_accuracy'])\n",
        "  plt.title('Model Accuracy')\n",
        "  plt.ylabel('Accuracy')\n",
        "  plt.xlabel('Epoch')\n",
        "  plt.legend(['Train', 'Val'], loc='upper left')\n",
        "  plt.show()\n",
        "\n",
        "  # training vs validation loss\n",
        "  epoch_range = range(1, epoch+1)\n",
        "  plt.plot(epoch_range, history.history['loss'])\n",
        "  plt.plot(epoch_range, history.history['val_loss'])\n",
        "  plt.title('Model Loss')\n",
        "  plt.ylabel('Loss')\n",
        "  plt.xlabel('Epoch')\n",
        "  plt.legend(['Train', 'Val'], loc='upper left')\n",
        "  plt.show()"
      ],
      "metadata": {
        "id": "FSjgbs1BKyJI"
      },
      "execution_count": null,
      "outputs": []
    },
    {
      "cell_type": "code",
      "source": [
        "learning_curve(history, 10)"
      ],
      "metadata": {
        "id": "yycOAaxtKyh7",
        "outputId": "7f4cf817-c4d2-4666-c506-3d2a25c9a1f1",
        "colab": {
          "base_uri": "https://localhost:8080/",
          "height": 927
        }
      },
      "execution_count": null,
      "outputs": [
        {
          "output_type": "display_data",
          "data": {
            "text/plain": [
              "<Figure size 640x480 with 1 Axes>"
            ],
            "image/png": "[encoded data removed]"
          },
          "metadata": {}
        },
        {
          "output_type": "display_data",
          "data": {
            "text/plain": [
              "<Figure size 640x480 with 1 Axes>"
            ],
            "image/png": "[encoded data removed]"
          },
          "metadata": {}
        }
      ]
    },
    {
      "cell_type": "code",
      "source": [],
      "metadata": {
        "id": "BN2-4ny5K0rQ"
      },
      "execution_count": null,
      "outputs": []
    }
  ]
}